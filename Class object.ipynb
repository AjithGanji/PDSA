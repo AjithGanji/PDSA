{
 "cells": [
  {
   "cell_type": "code",
   "execution_count": 28,
   "metadata": {},
   "outputs": [],
   "source": [
    "class Point:\n",
    "    def __init__(self,a=0,b=0):\n",
    "        self.x=a\n",
    "        self.y=b\n",
    "    def translate(self,deltax,deltay):\n",
    "        self.x+=deltax\n",
    "        self.y+=deltay\n",
    "    def odistance(self):\n",
    "        import math\n",
    "        d=math.sqrt(self.x*self.x+self.y*self.y)\n",
    "        return(d)\n",
    "    "
   ]
  },
  {
   "cell_type": "code",
   "execution_count": 35,
   "metadata": {},
   "outputs": [],
   "source": [
    "p=Point(3,4)\n",
    "q=Point(7,10)\n"
   ]
  },
  {
   "cell_type": "code",
   "execution_count": 36,
   "metadata": {},
   "outputs": [
    {
     "name": "stdout",
     "output_type": "stream",
     "text": [
      "(10,14)\n"
     ]
    }
   ],
   "source": [
    "print(p+q)"
   ]
  },
  {
   "cell_type": "code",
   "execution_count": 8,
   "metadata": {},
   "outputs": [
    {
     "data": {
      "text/plain": [
       "(5.0, 12.206555615733702)"
      ]
     },
     "execution_count": 8,
     "metadata": {},
     "output_type": "execute_result"
    }
   ],
   "source": [
    "p.odistance(),q.odistance()"
   ]
  },
  {
   "cell_type": "code",
   "execution_count": 17,
   "metadata": {},
   "outputs": [],
   "source": [
    "class Point:\n",
    "    def __init__(self,a=0,b=0):\n",
    "        import math\n",
    "        self.r=math.sqrt(a*a+b*b)\n",
    "        if a==0:\n",
    "            self.theta=0\n",
    "        else:\n",
    "            self.theta=math.atan(b/a)\n",
    "    def odistance(self):\n",
    "        return(self.r)\n",
    "    def translate(self,deltax,deltay):\n",
    "        x=self.r*cos(self.theta)\n",
    "        y=self.r*sin(self.theta)\n",
    "        x+=deltax\n",
    "        y+=deltay\n",
    "        self.r=math.sqrt(x*x+y*y)\n",
    "        if x==0:\n",
    "            self.theta=0\n",
    "        else:\n",
    "            self.theta=math.atan(y/x)"
   ]
  },
  {
   "cell_type": "code",
   "execution_count": 22,
   "metadata": {},
   "outputs": [
    {
     "data": {
      "text/plain": [
       "0.960070362405688"
      ]
     },
     "execution_count": 22,
     "metadata": {},
     "output_type": "execute_result"
    }
   ],
   "source": [
    "q.theta"
   ]
  },
  {
   "cell_type": "code",
   "execution_count": 34,
   "metadata": {},
   "outputs": [],
   "source": [
    "class Point:\n",
    "    def __init__(self,a=0,b=0):\n",
    "        self.x=a\n",
    "        self.y=b\n",
    "    def translate(self,deltax,deltay):\n",
    "        self.x+=deltax\n",
    "        self.y+=deltay\n",
    "    def odistance(self):\n",
    "        import math\n",
    "        d=math.sqrt(self.x*self.x+self.y*self.y)\n",
    "        return(d)\n",
    "    def __str__(self):\n",
    "        return( '('+str(self.x)+','+str(self.y)+')')\n",
    "    def __add__(self,p):\n",
    "        return(Point(self.x+p.x,self.y+p.y))\n",
    "    "
   ]
  }
 ],
 "metadata": {
  "kernelspec": {
   "display_name": "Python 3",
   "language": "python",
   "name": "python3"
  },
  "language_info": {
   "codemirror_mode": {
    "name": "ipython",
    "version": 3
   },
   "file_extension": ".py",
   "mimetype": "text/x-python",
   "name": "python",
   "nbconvert_exporter": "python",
   "pygments_lexer": "ipython3",
   "version": "3.10.5"
  },
  "orig_nbformat": 4,
  "vscode": {
   "interpreter": {
    "hash": "27f6fea6f47ae512550f0b8facdbd035a93e1dd89633f7bf2dd00a2502c71d0d"
   }
  }
 },
 "nbformat": 4,
 "nbformat_minor": 2
}
