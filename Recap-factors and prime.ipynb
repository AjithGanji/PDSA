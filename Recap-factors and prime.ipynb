{
 "cells": [
  {
   "cell_type": "code",
   "execution_count": 36,
   "metadata": {},
   "outputs": [],
   "source": [
    "def factors(m):\n",
    "    cf=[]\n",
    "    for i in range (1,m+1):\n",
    "        if (m%i)==0:\n",
    "            cf.append(i)\n",
    "    return cf\n",
    "def prime(n):\n",
    "    return factors(n)==[1,n]\n",
    "def primeupto(g):\n",
    "    df=[]\n",
    "    for i in range (1,g+1):\n",
    "        if prime(i):\n",
    "            df.append(i)\n",
    "    return(df)\n",
    "def firstprime(x):\n",
    "    (count,i,k)=(0,1,[])\n",
    "    while count<x:\n",
    "        if prime(i):\n",
    "            (count,k)=(count+1,k+[i])\n",
    "        i+=1    \n",
    "    return k"
   ]
  },
  {
   "cell_type": "code",
   "execution_count": 37,
   "metadata": {},
   "outputs": [
    {
     "data": {
      "text/plain": [
       "[2, 3, 5, 7, 11, 13, 17, 19, 23, 29]"
      ]
     },
     "execution_count": 37,
     "metadata": {},
     "output_type": "execute_result"
    }
   ],
   "source": [
    "firstprime(10)"
   ]
  },
  {
   "cell_type": "code",
   "execution_count": 2,
   "metadata": {},
   "outputs": [],
   "source": [
    "def factors(m):\n",
    "    cf=[]\n",
    "    for i in range (1,m+1):\n",
    "        if (m%i)==0:\n",
    "            cf.append(i)\n",
    "    return cf\n",
    "def prime(n):\n",
    "    return factors(n)==[1,n]\n",
    "def primediffs(x):\n",
    "    pd=2\n",
    "    diff={}\n",
    "    for i in range (3,x+1):\n",
    "        if prime(i):\n",
    "            k=i-pd\n",
    "            pd=i\n",
    "            if k in diff.keys():\n",
    "                diff[k]+=1\n",
    "            else:\n",
    "                diff[k]=1\n",
    "    return (diff)\n"
   ]
  },
  {
   "cell_type": "code",
   "execution_count": 3,
   "metadata": {},
   "outputs": [
    {
     "data": {
      "text/plain": [
       "{1: 1, 2: 35, 4: 40, 6: 44, 8: 15, 14: 7, 10: 16, 12: 7, 18: 1, 20: 1}"
      ]
     },
     "execution_count": 3,
     "metadata": {},
     "output_type": "execute_result"
    }
   ],
   "source": [
    "primediffs(1000)"
   ]
  }
 ],
 "metadata": {
  "kernelspec": {
   "display_name": "Python 3",
   "language": "python",
   "name": "python3"
  },
  "language_info": {
   "codemirror_mode": {
    "name": "ipython",
    "version": 3
   },
   "file_extension": ".py",
   "mimetype": "text/x-python",
   "name": "python",
   "nbconvert_exporter": "python",
   "pygments_lexer": "ipython3",
   "version": "3.10.5"
  },
  "orig_nbformat": 4,
  "vscode": {
   "interpreter": {
    "hash": "27f6fea6f47ae512550f0b8facdbd035a93e1dd89633f7bf2dd00a2502c71d0d"
   }
  }
 },
 "nbformat": 4,
 "nbformat_minor": 2
}
