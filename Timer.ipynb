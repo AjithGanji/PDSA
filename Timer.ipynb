{
 "cells": [
  {
   "cell_type": "code",
   "execution_count": 1,
   "metadata": {},
   "outputs": [],
   "source": [
    "import time\n",
    "class Timer:\n",
    "    def __init__(self):\n",
    "        self._start_time = 0\n",
    "        self._elapsed_time =0\n",
    "    def start (self):\n",
    "        self._start_time=time.perf_counter()\n",
    "    def stop(self):\n",
    "        self._elapse_time=time.perf_counter()-self._start_time()\n",
    "    def elapsed(self):\n",
    "        return(self._elapsed_time)\n"
   ]
  },
  {
   "cell_type": "code",
   "execution_count": 3,
   "metadata": {},
   "outputs": [],
   "source": [
    "# A Timer Class\n",
    "\n",
    "import time\n",
    "class TimerError(Exception):\n",
    "    \"\"\"A custom  exception used to report errors in use of Timer class\"\"\"\n",
    "\n",
    "class Timer:\n",
    "    def __init__(self):\n",
    "        self._start_time = None\n",
    "        self._elapsed_time = None\n",
    "    def start(self):\n",
    "        \"\"\"Start a new timer\"\"\"\n",
    "        if  self._start_time is not None:\n",
    "            raise TimerError(\"Timer is running. Use .stop()\")\n",
    "        self._start_time = time.perf_counter()\n",
    "    def stop(self):\n",
    "        \"\"\"Save the elapsed time and re-initialize timer\"\"\"\n",
    "        if self._start_time is None:\n",
    "            raise TimerError(\"Timer is not running .Use .start()\")\n",
    "        self.elapsed_time=time.perf_counter()-self._start_time\n",
    "        self._start_time= None\n",
    "    def elapsed(self):\n",
    "        if self._elapsed_time is None:\n",
    "            raise TimerError(\"Timer has not been run yet. Use .start()\")\n",
    "            return(str(self._elapsed_time))\n",
    "    def __str__(self):\n",
    "        \"\"\"primt() prints elapsed time\"\"\"\n",
    "        return(str(self._elapsed_time))\n",
    "    "
   ]
  },
  {
   "cell_type": "code",
   "execution_count": 5,
   "metadata": {},
   "outputs": [
    {
     "name": "stdout",
     "output_type": "stream",
     "text": [
      "4 None\n",
      "5 None\n",
      "6 None\n",
      "7 None\n",
      "8 None\n"
     ]
    }
   ],
   "source": [
    "t=Timer()\n",
    "for j in range(4,9):\n",
    "    t.start()\n",
    "    n = 0\n",
    "    for i in range(10**j):\n",
    "        n=n+i\n",
    "    t.stop()\n",
    "    print(j,t)"
   ]
  }
 ],
 "metadata": {
  "kernelspec": {
   "display_name": "Python 3",
   "language": "python",
   "name": "python3"
  },
  "language_info": {
   "codemirror_mode": {
    "name": "ipython",
    "version": 3
   },
   "file_extension": ".py",
   "mimetype": "text/x-python",
   "name": "python",
   "nbconvert_exporter": "python",
   "pygments_lexer": "ipython3",
   "version": "3.10.5"
  },
  "orig_nbformat": 4,
  "vscode": {
   "interpreter": {
    "hash": "27f6fea6f47ae512550f0b8facdbd035a93e1dd89633f7bf2dd00a2502c71d0d"
   }
  }
 },
 "nbformat": 4,
 "nbformat_minor": 2
}
